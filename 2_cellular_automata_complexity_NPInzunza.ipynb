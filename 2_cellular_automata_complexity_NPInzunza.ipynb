{
 "cells": [
  {
   "cell_type": "markdown",
   "id": "2a9d54a3",
   "metadata": {},
   "source": [
    "# Graph traversal, cellular automata, and percolation \n",
    "\n",
    "Imports: Make sure these are installed in your conda env, and that the conda env is active in your notebook\n",
    "+ numpy\n",
    "+ matplotlib\n",
    "+ scipy\n",
    "+ jupyter\n",
    "\n",
    "For interactive plots:\n",
    "\n",
    "+ ipykernel"
   ]
  },
  {
   "cell_type": "markdown",
   "id": "a84a2e46",
   "metadata": {},
   "source": [
    "**A note on cloud-hosted notebooks.** If you are running a notebook on a cloud provider, such as Google Colab or CodeOcean, remember to save your work frequently. Cloud notebooks will occasionally restart after a fixed duration, crash, or prolonged inactivity, requiring you to re-run code.\n",
    "\n",
    "<!-- [Click here to open this notebook in Colab](https://colab.research.google.com/github/williamgilpin/cphy/blob/main/hw/cellular_automata_complexity.ipynb) -->\n",
    "[![Open In Colab](https://colab.research.google.com/assets/colab-badge.svg)](https://colab.research.google.com/github/williamgilpin/cphy/blob/main/hw/cellular_automata_complexity.ipynb)\n",
    "\n"
   ]
  },
  {
   "cell_type": "code",
   "execution_count": 1,
   "id": "9ee03d2d-906b-4dee-aee1-b48f2a17a887",
   "metadata": {},
   "outputs": [],
   "source": [
    "import numpy as np\n",
    "import matplotlib.pyplot as plt\n",
    "%matplotlib inline\n",
    "\n",
    "%load_ext autoreload\n",
    "%autoreload 2"
   ]
  },
  {
   "cell_type": "markdown",
   "id": "05a02d70",
   "metadata": {},
   "source": [
    "# The Abelian sandpile\n",
    "\n",
    "### Background\n",
    "\n",
    "We are going to implement the celebrated [Bak-Tang-Wiesenfeld model](https://journals.aps.org/prl/abstract/10.1103/PhysRevLett.59.381), also known as the \"Abelian sandpile.\" This cellular automaton describes a lattice in which sand grains are continuously dropped onto random locations at a fixed rate, resulting in the formation of random sandpiles. When the sandpiles grow too high, they topple, resulting in avalanches that distribute grains to all of their neighbors.\n",
    "\n",
    "If we denote the number of grains at a site $(x, y)$ as $z(x, y)$, a single \"topple\" event of the BTW model has the following update rule, which triggers only when $z \\geq 4$.\n",
    "\n",
    "$$\n",
    "z(x, y) \\rightarrow z(x, y) - 4\n",
    "$$\n",
    "\n",
    "$$\n",
    "\\begin{array}{lr}\n",
    "    z(x + 1, y) \\leftarrow z(x + 1, y) + 1    \\\\\n",
    "    z(x - 1, y) \\leftarrow z(x - 1, y) + 1    \\\\\n",
    "    z(x, y + 1) \\leftarrow z(x, y + 1) + 1    \\\\\n",
    "    z(x, y - 1) \\leftarrow z(x, y - 1) + 1    \\\\\n",
    "\\end{array}\n",
    "$$\n",
    "\n",
    "A topple event thus consists of a single site decreasing in height by four grains, and then distributing these grains to each of its north, south, east, and west neighbors---but not its diagonal neighbors.\n",
    "\n",
    "After a single topple event, the entire lattice is checked again to see if any other sites now have $z \\geq 4$, in which case those sites are toppled, too. If a site located at the boundary of the domain topples, then any grains that would go out of bounds are assumed to be permanently lost from the system. After all sites reach a state where $z \\leq 4$, the avalanche has concluded. We then add a sand grain to a random new site, and calculate any new resulting avalanches.\n",
    "\n",
    "This idealized system has several interesting properties: the continuous addition of grains represents a slow-timescale driving process, which effectively injects energy into the system. The avalances represent fast-timescale response dynamics, and the grains that fall off the edges represent dissipation---they prevent avalanches from continuing forever undriven. Despite its seeming simplicity, the BTK model represents perhaps the earliest widely-studied toy model of \"self-organized criticality,\" a well-known hypothesis in nonequilibrium statistical physics that driven, dissipative systems tend to tune themselves into maximally-critical states (there are always sandpiles on the verge of toppling). The sandpile has been used as a thought experiment describing an incredible array of diverse systems, including: starts and stops in dragging friction, [earthquakes](https://agupubs.onlinelibrary.wiley.com/doi/abs/10.1029/JB094iB11p15635), timings between geyser eruptions, [timings of pulsar glitches](https://arxiv.org/abs/1403.6528), [fluctuations in an ultracold atomic gas](https://www.nature.com/articles/s41586-019-1908-6), [neuronal activity patterns in the brain](https://www.frontiersin.org/articles/10.3389/fnsys.2014.00166/full), [flux pinning](https://journals.aps.org/prl/abstract/10.1103/PhysRevLett.67.919), and many other areas.\n",
    "\n",
    "A simple signature of self-organized-criticality observed in the sandpile model, which also represents an easy readout for experimental data, is the appearance of $1/f$ noise in the system's power spectrum, where $f$ denotes frequency. This distribution implies that avalanche durations have a skewed distribution, where larger events happen less frequently. For an experimental system, this results in \"crackling\" or brown noise in the detector. In the BTW model, the authors note that a $1/f$ distribution of rare events in the frequency corresponds to a $1/T$ distribution of waiting times between rare events. \n",
    "\n",
    "Here we will implement the BTW model, and then test for the appearance of $1/f$ noise."
   ]
  },
  {
   "cell_type": "markdown",
   "id": "0f497640",
   "metadata": {},
   "source": [
    "## To Do:\n",
    "\n",
    "*Please complete the following tasks and answer the included questions. You can edit a Markdown cell in Jupyter by double-clicking on it. To return the cell to its formatted form, press `[Shift]+[Enter]`.*"
   ]
  },
  {
   "cell_type": "markdown",
   "id": "8e9cb0e8",
   "metadata": {},
   "source": [
    "1. Implement the Abelian Sandpile model and simulate its dynamics. I've included a template of the iterative solution below, although feel free to re-factor if you would prefer to implement the problem a different way. There are at least three different ways to implement the Abelian sandpile:\n",
    "    + The iterative solution involves adding a grain and then repeatedly checking the lattice for piles to topple\n",
    "    + The recursive depth-first-search solution adds a grain and then traces the avalanche that results from each grain toppled by the initial addition.\n",
    "    + The breadth-first-search solution adds a grain and then simultaneously tracks the four potential avalanches that result from a single grain falling.\n"
   ]
  },
  {
   "cell_type": "markdown",
   "id": "3465df70",
   "metadata": {},
   "source": [
    "```\n",
    "    I commented out your template and wrote my answer right below that.\n",
    "```"
   ]
  },
  {
   "cell_type": "markdown",
   "id": "6bc995c1",
   "metadata": {},
   "source": [
    "\n",
    "2. Using the code included below, show that avalanche durations exhibit a $1/T^\\alpha$ distribution, where $\\alpha$ is some constant."
   ]
  },
  {
   "cell_type": "markdown",
   "id": "b131008f",
   "metadata": {},
   "source": [
    "```\n",
    "    I have shown the distribution below my implementation.\n",
    "    My code was not fast enough to run a size 100 grid for 10000 timesteps.  I did size of 50 and 1000 timesteps instead.\n",
    "    You have excluded the first 1000 timesteps as transients, but I excluded the first 100.  \n",
    "\n",
    "    a note:\n",
    "        I feel like size could affect this distribution, since on a smaller lattice, an avalanche could more easily reach the boundary, where the sand is lost, thus there is less sand to propagate through the lattice, shortening avalanche times.\n",
    "\n",
    "```"
   ]
  },
  {
   "cell_type": "markdown",
   "id": "0a9efd17",
   "metadata": {},
   "source": [
    "3. If a single image of the sandpile has size $N$ (the total number of lattice sites), what do you expect to be the worst-case scaling of the runtime of your algorithm? What about the expected scaling of memory usage?"
   ]
  },
  {
   "cell_type": "markdown",
   "id": "d43059d1",
   "metadata": {},
   "source": [
    "```\n",
    "    The computation time of any one given step between states should not scale any differently.  E.g. adding a grain on N=100^2 should be no more hard to compute than running a grain on N=50^2 the way that I have written things.  This is because I do not check the entire lattice at once to see what needs to be toppled.  After a topple, I only look at whether the neighbors affected need to be toppled, and if the neighbors' neighbors need to be toppled after that, etc.\n",
    "\n",
    "    However, an individual avalanche could take longer on a larger lattice, as explained above.  Thus, the runtime will not scale up as N so easily, but it will likely be something more complicated.\n",
    "\n",
    "    The memory usage goes as N for N=n^2, n=no. rows or columns of lattice.  This is because a given lattice will have memory n^2 for each site, so in adding more sites, the growth in memory storage will be proportional to (n2^2)/(n1^2), or N2/N1, so it scales linearly in N.  But there is an extra affect by the extended avalanche mechanism explained above for larger lattice sites.  There will be that much more history to store, so the volume will increase linearly according to whatever this other scaling factor is, say f.  So memory scaling ~ N*f\n",
    "```"
   ]
  },
  {
   "cell_type": "markdown",
   "id": "48891642",
   "metadata": {},
   "source": [
    "4. You may have noticed that the waiting time and avalanche size distribution exhibit anomalous scaling in their tails, as visible as a small second peak near the extreme end of the distribution. What causes this effect?"
   ]
  },
  {
   "cell_type": "markdown",
   "id": "b6753469",
   "metadata": {},
   "source": [
    "```\n",
    "    There are some avalanches that take exceptionally long.  This is likely the endgame of the Abelian Sandpile.  Most of the time, when we add a grain of sand to a given site, and the site is not critical.  With random assignment of grains to a lattice as our initial condition, there is only a 1/4 chance that the site will topple at the very first drop.  As we continue, we are more likely to topple a site by adding a grain, as we have repeatedly added sand to the lattice.  The avalanches also cascade along the lattice, adding sand to neighbors of topple points.  At certain points in the game, the lattice might be filled with many critical sites adjacent to each other, and avalanches being caused by adjacent critical sites, with so many of them lined up, and flowing back in and out of each other, this could lead to a few very long avalanches which break the negative power law distribution.\n",
    "\n",
    "    This is just motivation for a hypothesis.  I don't feel like working out if this is true right now.\n",
    "```"
   ]
  },
  {
   "cell_type": "markdown",
   "id": "f523c0b6",
   "metadata": {},
   "source": [
    "5. (Optional, Hard Problem). Try [vectorizing](https://realpython.com/numpy-array-programming/) your sandpile implementation, in order to reduce the number of \"for\" loops used in your implementation. How does vectorization affect the runtime?"
   ]
  },
  {
   "cell_type": "markdown",
   "id": "847cc5ce",
   "metadata": {},
   "source": [
    "```\n",
    "    Sounds difficult.  Vectorization will help me in research, but I think I will pass for this assignment.\n",
    "```"
   ]
  },
  {
   "cell_type": "code",
   "execution_count": 2,
   "id": "4ba7c649-b71a-4741-b339-406690db8c41",
   "metadata": {},
   "outputs": [],
   "source": [
    "# class AbelianSandpile:\n",
    "#     \"\"\"\n",
    "#     An Abelian sandpile model simulation. The sandpile is initialized with a random\n",
    "#     number of grains at each lattice site. Then, a single grain is dropped at a random\n",
    "#     location. The sandpile is then allowed to evolve until it is stable. This process\n",
    "#     is repeated n_step times.\n",
    "\n",
    "#     A single step of the simulation consists of two stages: a random sand grain is \n",
    "#     dropped onto the lattice at a random location. Then, a set of avalanches occurs\n",
    "#     causing sandgrains to get redistributed to their neighboring locations.\n",
    "    \n",
    "#     Parameters:\n",
    "#     n (int): The size of the grid\n",
    "#     grid (np.ndarray): The grid of the sandpile\n",
    "#     history (list): A list of the sandpile grids at each timestep\n",
    "#     \"\"\"\n",
    "\n",
    "#     def __init__(self, n=100, random_state=None):\n",
    "#         self.n = n\n",
    "#         np.random.seed(random_state) # Set the random seed\n",
    "#         self.grid = np.random.choice([0, 1, 2, 3], size=(n, n))\n",
    "#         self.history =[self.grid.copy()] # Why did we need to copy the grid?\n",
    "\n",
    "\n",
    "#     def step(self):\n",
    "#         \"\"\"\n",
    "#         Perform a single step of the sandpile model. Step corresponds a single sandgrain \n",
    "#         addition and the consequent toppling it causes. \n",
    "\n",
    "#         Returns: None\n",
    "#         \"\"\"\n",
    "#         ########## YOUR CODE HERE ##########\n",
    "#         raise NotImplementedError\n",
    "#         #\n",
    "#         #\n",
    "#         # My solution starts by dropping a grain, and then solving for all topple events \n",
    "#         # until the sandpile is stable. Watch your boundary conditions carefully.\n",
    "#         # We will use absorbing boundary conditions: excess sand grains fall off the edges\n",
    "#         # of the grid.\n",
    "#         #\n",
    "#         #\n",
    "#         ########## YOUR CODE HERE ##########\n",
    "\n",
    "\n",
    "#     # we use this decorator for class methods that don't require any of the attributes \n",
    "#     # stored in self. Notice how we don't pass self to the method\n",
    "#     @staticmethod\n",
    "#     def check_difference(grid1, grid2):\n",
    "#         \"\"\"Check the total number of different sites between two grids\"\"\"\n",
    "#         return np.sum(grid1 != grid2)\n",
    "\n",
    "    \n",
    "#     def simulate(self, n_step):\n",
    "#         \"\"\"\n",
    "#         Simulate the sandpile model for n_step steps.\n",
    "#         \"\"\"\n",
    "#         ########## YOUR CODE HERE ##########\n",
    "#         raise NotImplementedError\n",
    "#         #\n",
    "#         #\n",
    "#         # YOUR CODE HERE. You should use the step method you wrote above.\n",
    "#         #\n",
    "#         #\n",
    "#         ########## YOUR CODE HERE ##########\n"
   ]
  },
  {
   "cell_type": "code",
   "execution_count": 3,
   "id": "6b5d5f3f",
   "metadata": {},
   "outputs": [],
   "source": [
    "# i like the depth-first idea the best\n",
    "\n",
    "class AbelianSandpile:\n",
    "    \"\"\"\n",
    "    Rules for the Abelian sandpile are as follows ~\n",
    "        take a lattice of n^2 sites.  each site has an integer number associated with it, corresponding to the number of grains, so to speak.\n",
    "        if a site has 4 or more grains, then it causes a so-called toppling event\n",
    "        the site topples by removing 4 grains from said site and adding 1 grain each to the neighboring sites (North, South, East, West)\n",
    "\n",
    "    Parameters:\n",
    "    size (int): number of rows/columns for our square lattice\n",
    "    lattice (np.ndarray): the lattice of the sandpile itself\n",
    "    history (list): each time the lattice changes, the new state is saved to an array called history\n",
    "    \"\"\"\n",
    "    def __init__(self, size=100, random_seed=None, initial_condition=None):\n",
    "        \n",
    "        np.random.seed(random_seed)\n",
    "\n",
    "        # setting up initial condition of the lattice\n",
    "        if initial_condition is not None:\n",
    "            self.lattice = initial_condition # we can specify an initial condition\n",
    "            self.size = len(initial_condition) # this will be the size\n",
    "        else:\n",
    "            self.size = size\n",
    "            self.lattice = np.random.choice(np.arange(4),size=(size,size))\n",
    "            # note that we start lattice with no dynamics\n",
    "        \n",
    "        # initialize the history of the lattice, a list of states as we run the sandpile\n",
    "        self.history = [self.lattice.copy()]\n",
    "\n",
    "    def grain(self):\n",
    "        \"\"\"\n",
    "        Add a grain at a random point and proceed with saving every new state that follows.\n",
    "\n",
    "        Returns: None\n",
    "        \"\"\"\n",
    "\n",
    "        # first, randomly sample a site on the lattice\n",
    "        grain_site = (\n",
    "            np.array([np.random.randint(low=0,high=self.size)])\n",
    "            ,\n",
    "            np.array([np.random.randint(low=0,high=self.size)])\n",
    "            )\n",
    "        # the formatting for this is intentionally weird\n",
    "        # array indexing (for 2D arrays) can work as ``( row array, column array )``\n",
    "\n",
    "        # add a grain to the site\n",
    "        self.lattice[grain_site] += 1\n",
    "\n",
    "        # update the history\n",
    "        self.history += [self.lattice.copy()]\n",
    "\n",
    "        # create local variable (will make sense within context of the while loop)\n",
    "        points_of_interest = grain_site # these ``points_of_interest`` are coordinates to look at\n",
    "        \n",
    "        while True: # sort of like do while\n",
    "            # check if we need to topple\n",
    "            toppling_points = self.lattice[points_of_interest]>=4\n",
    "            if not np.any(toppling_points):\n",
    "                break # end loop if there is nothing to do\n",
    "\n",
    "            # since we did not break, proceed with toppling\n",
    "            self._topple(\n",
    "                (points_of_interest[0][np.nonzero(toppling_points)[0]],\n",
    "                 points_of_interest[1][np.nonzero(toppling_points)[0]])\n",
    "                ) # topple the points that need to be toppled\n",
    "            \n",
    "            # save new state\n",
    "            self.history += [self.lattice.copy()]\n",
    "\n",
    "            points_of_interest = self._neighbors(points_of_interest) # update the next points to look at\n",
    "\n",
    "    def _topple(self, points):\n",
    "        # points is a twople of coordinate arrays: ``points = ( row array , column array )``\n",
    "        # here are the topple rules\n",
    "        self.lattice[points] -= 4\n",
    "        self.lattice[self._neighbors(points)] += 1\n",
    "        # this topple follows the boundary conditions in the way that ``neighbors`` is defined\n",
    "\n",
    "    def _neighbors(self, points):\n",
    "        # assume points is a twople of coordinates (as in ``topple``), possibly twople of arrays\n",
    "        # north, south, east, west\n",
    "        rows=np.r_[points[0],points[0],points[0]+1,points[0]-1]\n",
    "        cols=np.r_[points[1]-1,points[1]+1,points[1],points[1]]\n",
    "        # note: i tend to use ``np.r_`` instead of ``np.concatenate`` or ``np.repeat``\n",
    "        # i simply like the function...\n",
    "\n",
    "        # delete points which fall outside of the lattice\n",
    "        rows,cols = np.delete(np.array([rows,cols]),\n",
    "                              np.nonzero(\n",
    "                                  np.logical_or(np.array((rows,cols))==-1,\n",
    "                                                np.array((rows,cols))==self.size))[1]\n",
    "                              ,\n",
    "                              axis=1\n",
    "                             )\n",
    "        \n",
    "        # return a twople of row and column arrays\n",
    "        return (rows,cols)\n",
    "    \n",
    "    def simulate(self, nsteps):\n",
    "        \"\"\"\n",
    "        Place a specified number of grains on the lattice, placing new ones once our lattice has stabilized from a previous grain.\n",
    "        \"\"\"\n",
    "        for i in range(nsteps):\n",
    "            self.grain()\n",
    "    \n",
    "    # this will be used for the question about time distribution\n",
    "    @staticmethod\n",
    "    def check_difference(grid1, grid2):\n",
    "        \"\"\"Check the total number of different sites between two grids\"\"\"\n",
    "        return np.sum(grid1 != grid2)\n"
   ]
  },
  {
   "cell_type": "code",
   "execution_count": 4,
   "id": "bca2bd4f",
   "metadata": {},
   "outputs": [],
   "source": [
    "seed=19\n",
    "pile=AbelianSandpile(size=50,random_seed=seed)\n",
    "pile.simulate(1000)"
   ]
  },
  {
   "cell_type": "code",
   "execution_count": 5,
   "id": "0e68c4d6",
   "metadata": {},
   "outputs": [
    {
     "data": {
      "text/plain": [
       "Text(0, 0.5, 'Count')"
      ]
     },
     "execution_count": 5,
     "metadata": {},
     "output_type": "execute_result"
    },
    {
     "data": {
      "image/png": "[encoded data removed]",
      "text/plain": [
       "<Figure size 640x480 with 1 Axes>"
      ]
     },
     "metadata": {},
     "output_type": "display_data"
    },
    {
     "data": {
      "image/png": "[encoded data removed]",
      "text/plain": [
       "<Figure size 640x480 with 1 Axes>"
      ]
     },
     "metadata": {},
     "output_type": "display_data"
    }
   ],
   "source": [
    "\n",
    "\n",
    "# Compute the pairwise difference between all observed snapshots. This command uses list\n",
    "# comprehension, a zip generator, and argument unpacking in order to perform this task\n",
    "# concisely.\n",
    "all_events =  [pile.check_difference(*states) for states in zip(pile.history[:-1], pile.history[1:])]\n",
    "# remove transients before the self-organized critical state is reached\n",
    "all_events = all_events[100:]\n",
    "# index each timestep by timepoint\n",
    "all_events = list(enumerate(all_events))\n",
    "# remove cases where an avalanche did not occur\n",
    "all_avalanches = [x for x in all_events if x[1] > 1]\n",
    "all_avalanche_times = [item[0] for item in all_avalanches]\n",
    "all_avalanche_sizes = [item[1] for item in all_avalanches]\n",
    "all_avalanche_durations = [event1 - event0 for event0, event1 in zip(all_avalanche_times[:-1], all_avalanche_times[1:])]\n",
    "\n",
    "\n",
    "## Waiting time distribution\n",
    "waiting_times = np.diff(np.array(all_avalanche_times))\n",
    "plt.figure()\n",
    "plt.semilogy()\n",
    "plt.hist(waiting_times)\n",
    "plt.title('Waiting Time distribution')\n",
    "plt.xlabel('Waiting time')\n",
    "plt.ylabel('Number of events')\n",
    "\n",
    "## Duration distribution\n",
    "log_bins = np.logspace(np.log10(2), np.log10(np.max(all_avalanche_durations)), 50) # logarithmic bins for histogram\n",
    "vals, bins = np.histogram(all_avalanche_durations, bins=log_bins)\n",
    "plt.figure()\n",
    "plt.loglog(bins[:-1], vals, '.', markersize=10)\n",
    "plt.title('Avalanche duration distribution')\n",
    "plt.xlabel('Avalanche duration')\n",
    "plt.ylabel('Count')"
   ]
  },
  {
   "cell_type": "markdown",
   "id": "ac8071e4",
   "metadata": {},
   "source": [
    "### Test and use your code\n",
    "\n",
    "+ You don't need to write any code below, these cells are just to confirm that everything is working and to play with your sandpile implementation\n",
    "+ If you are working from a local fork of the entire course, then you already have access to the solutions. In this case, make sure to `git pull` to make sure that you are up-to-date (save your work first).\n",
    "+ If you are working from a single downloaded notebook, or are working in Google Colab, then you will need to manually download the solutions file from the course repository. The lines below will do this for you."
   ]
  },
  {
   "cell_type": "code",
   "execution_count": 6,
   "id": "8fc85fa8",
   "metadata": {},
   "outputs": [],
   "source": [
    "# import os\n",
    "# import requests\n",
    "# # Check if the \"solutions\" directory exists. If not, create it and download the solution file\n",
    "# if not os.path.exists('solutions'):\n",
    "#     os.makedirs('solutions')\n",
    "# else:\n",
    "#     print('Directory \"solutions\" already exists. Skipping creation.')\n",
    "\n",
    "# # Now download the solution file into the directory we just created\n",
    "# url = 'https://raw.githubusercontent.com/williamgilpin/cphy/main/hw/solutions/sandpile.py'\n",
    "# response = requests.get(url)\n",
    "# file_path = os.path.join('solutions', 'sandpile.py')\n",
    "# if not os.path.exists(file_path):\n",
    "#     with open(file_path, 'wb') as file:\n",
    "#         file.write(response.content)\n",
    "#     print(f'File saved to {file_path}')\n",
    "# else:\n",
    "#     print(f'File already exists at {file_path}, not overwritten.')\n",
    "\n",
    "# ## Import Instructor's solution from answer key\n",
    "# # from solutions.sandpile import AbelianSandpileIterative as AbelianSandpile\n",
    "# # from solutions.sandpile import AbelianSandpileBFS as AbelianSandpile\n",
    "# # from solutions.sandpile import AbelianSandpileDFS as AbelianSandpile\n"
   ]
  },
  {
   "cell_type": "code",
   "execution_count": 7,
   "id": "c25237ee",
   "metadata": {},
   "outputs": [],
   "source": [
    "# # Run sandpile simulation\n",
    "# model = AbelianSandpile(n=100, random_state=0)\n",
    "\n",
    "# plt.figure()\n",
    "# plt.imshow(model.grid, cmap='gray')\n",
    "# plt.title(\"Initial State\")\n",
    "\n",
    "# model.simulate(10000)\n",
    "# plt.figure()\n",
    "# plt.imshow(model.grid, cmap='gray')\n",
    "# plt.title(\"Final state\")\n",
    "\n",
    "\n",
    "\n",
    "\n",
    "# # Compute the pairwise difference between all observed snapshots. This command uses list\n",
    "# # comprehension, a zip generator, and argument unpacking in order to perform this task\n",
    "# # concisely.\n",
    "# all_events =  [model.check_difference(*states) for states in zip(model.history[:-1], model.history[1:])]\n",
    "# # remove transients before the self-organized critical state is reached\n",
    "# all_events = all_events[1000:]\n",
    "# # index each timestep by timepoint\n",
    "# all_events = list(enumerate(all_events))\n",
    "# # remove cases where an avalanche did not occur\n",
    "# all_avalanches = [x for x in all_events if x[1] > 1]\n",
    "# all_avalanche_times = [item[0] for item in all_avalanches]\n",
    "# all_avalanche_sizes = [item[1] for item in all_avalanches]\n",
    "# all_avalanche_durations = [event1 - event0 for event0, event1 in zip(all_avalanche_times[:-1], all_avalanche_times[1:])]\n",
    "\n",
    "\n",
    "# ## Waiting time distribution\n",
    "# waiting_times = np.diff(np.array(all_avalanche_times))\n",
    "# plt.figure()\n",
    "# plt.semilogy()\n",
    "# plt.hist(waiting_times)\n",
    "# plt.title('Waiting Time distribution')\n",
    "# plt.xlabel('Waiting time')\n",
    "# plt.ylabel('Number of events')\n",
    "\n",
    "# ## Duration distribution\n",
    "# log_bins = np.logspace(np.log10(2), np.log10(np.max(all_avalanche_durations)), 50) # logarithmic bins for histogram\n",
    "# vals, bins = np.histogram(all_avalanche_durations, bins=log_bins)\n",
    "# plt.figure()\n",
    "# plt.loglog(bins[:-1], vals, '.', markersize=10)\n",
    "# plt.title('Avalanche duration distribution')\n",
    "# plt.xlabel('Avalanche duration')\n",
    "# plt.ylabel('Count')\n",
    "\n",
    "# ## Visualize activity of the avalanches\n",
    "# # Make an array storing all pairwise differences between the lattice at successive\n",
    "# # timepoints\n",
    "# all_diffs = np.abs(np.diff(np.array(model.history), axis=0))\n",
    "# all_diffs[all_diffs > 0] = 1\n",
    "# all_diffs = all_diffs[np.sum(all_diffs, axis=(1, 2)) > 1] # Filter to only keep big events\n",
    "# most_recent_events = np.sum(all_diffs[-100:], axis=0)\n",
    "# plt.figure(figsize=(5, 5))\n",
    "# plt.imshow(most_recent_events)\n",
    "# plt.title(\"Avalanche activity in most recent timesteps\")"
   ]
  },
  {
   "cell_type": "markdown",
   "id": "c2556633",
   "metadata": {},
   "source": [
    "\n",
    "### Additional information\n",
    "\n",
    "\n",
    "The BTK model is called the \"Abelian\" sandpile because the final stable configuration is invariant to the order of toppling events. For example, instead of toppling the pile to completion after each addition, we could add $M$ several grains at once, and then perform a series of topples selecting unstable sites in any order until a stable configuration is achieved. The final sandpile would be identical to the one we would get if we simulated the pile through $M$ full additions sequentially. The Abelian property also means that we have a variety of choices of algorithms for implementing the toppling process resulting from the addition of a single grain; the sandpile will return the same solution regardless of whether a breadth-first search, depth-first search, or iterative solution is used. Importantly, each of these solution methods is, in principle, simulating a different physical process and chain of events, but the particular Abelian property of this model means that the final solution is identical.\n",
    "\n",
    "Another member of our department, Michael Marder, has a [paper from 1992 in which he and his student Steve Kramer propose a cellular automaton model of river formation.](https://journals.aps.org/prl/abstract/10.1103/PhysRevLett.68.205). The update rules and structure of implementing this simulation have many simularities to the BTK model.\n",
    "\n",
    "Among cellular automata, the BTW model is not only unique for its asynchronous nature, but also because it has a \"derivative\" ruleset in contrast to the \"integral\"/totalistic ruleset seen in better-known systems like the Game of Life: instead of updating a cell based on the sum of all its neighbors, we update all neighbors based on the state of a cell. A similar distinction arises in other types of dynamical systems; for example, when numerically integrating partial differential equations, finite difference methods update each lattice point based on their differences from neighboring points, approximating spatial derivatives. However, for many classes of partial differential equations, finite element methods instead update each lattice point based on the weighted average of all its neighbors, approximating spatial integrals.\n",
    "\n"
   ]
  },
  {
   "cell_type": "markdown",
   "id": "aa2b3764",
   "metadata": {
    "tags": [
     "no-pdf"
    ]
   },
   "source": [
    "### Extra  code for animations\n",
    "+ No need to run this, but this code allows you to visualize the sandpile as it evolves over time."
   ]
  },
  {
   "cell_type": "code",
   "execution_count": 8,
   "id": "c9c9af2b",
   "metadata": {
    "tags": [
     "no-pdf"
    ]
   },
   "outputs": [],
   "source": [
    "# from matplotlib.animation import FuncAnimation\n",
    "# from IPython.display import HTML\n",
    "\n",
    "# activity_sliding2 = all_diffs[-500:]\n",
    "# vmin = np.percentile(activity_sliding2, 1)\n",
    "# # vmin = 0\n",
    "# vmax = np.percentile(activity_sliding2, 99.8)\n",
    "\n",
    "# # Assuming frames is a numpy array with shape (num_frames, height, width)\n",
    "# frames = np.array(activity_sliding2).copy() \n",
    "\n",
    "# fig = plt.figure(figsize=(6, 6))\n",
    "# img = plt.imshow(frames[0], vmin=vmin, vmax=vmax);\n",
    "# plt.xticks([]); plt.yticks([])\n",
    "# # tight margins\n",
    "# plt.margins(0,0)\n",
    "# plt.gca().xaxis.set_major_locator(plt.NullLocator())\n",
    "\n",
    "# def update(frame):\n",
    "#     img.set_array(frame)\n",
    "\n",
    "# ani = FuncAnimation(fig, update, frames=frames, interval=50)\n",
    "# HTML(ani.to_jshtml())"
   ]
  },
  {
   "cell_type": "code",
   "execution_count": 9,
   "id": "120f00aa",
   "metadata": {
    "tags": [
     "no-pdf"
    ]
   },
   "outputs": [],
   "source": [
    "# all_diffs = np.abs(np.diff(np.array(model.history), axis=0))\n",
    "# # all_diffs = all_diffs[np.sum(all_diffs, axis=(1, 2)) > 1] # Filter to only keep big events\n",
    "\n",
    "# # Use a trick to calculate the sliding cumulative sum\n",
    "# activity_cumulative = np.cumsum(all_diffs, axis=0)\n",
    "# # activity_sliding = activity_cumulative[50:] - activity_cumulative[:-50]\n",
    "# activity_sliding = all_diffs\n",
    "\n",
    "# plt.figure(figsize=(5, 5))\n",
    "# plt.imshow(activity_sliding[-1])"
   ]
  },
  {
   "cell_type": "code",
   "execution_count": 10,
   "id": "1eb80419",
   "metadata": {
    "tags": [
     "no-pdf"
    ]
   },
   "outputs": [],
   "source": [
    "# # This code saves the sliding cumulative sum as a movie. No need to run this cell\n",
    "\n",
    "# activity_sliding2 = activity_sliding[-500:]\n",
    "# vmin = np.percentile(activity_sliding2, 1)\n",
    "# # vmin = 0\n",
    "# vmax = np.percentile(activity_sliding2, 99.8)\n",
    "# for i in range(len(activity_sliding2) - 1):\n",
    "    \n",
    "#     out_path = \"private_dump/sandpile/frame\" + str(i).zfill(4) + \".png\"\n",
    "\n",
    "#     plt.figure()\n",
    "#     plt.imshow(activity_sliding2[i], vmin=vmin, vmax=vmax)\n",
    "\n",
    "#     ax = plt.gca()\n",
    "#     ax.set_axis_off()\n",
    "#     ax.xaxis.set_major_locator(plt.NullLocator())\n",
    "#     ax.yaxis.set_major_locator(plt.NullLocator())\n",
    "#     ax.set_aspect(1, adjustable='box')\n",
    "\n",
    "#     plt.savefig(out_path, bbox_inches='tight', pad_inches=0.0, dpi=300)\n",
    "#     plt.close() \n",
    "\n"
   ]
  },
  {
   "cell_type": "markdown",
   "id": "9d4a9454",
   "metadata": {},
   "source": [
    "# Percolation\n",
    "\n",
    "The BTK cellular automaton represents a great example of a simple, toy computational model that exhibits non-trivial properties found in other, much more elaborate problems. It can be considered a [dynamical universality class](https://journals.aps.org/prl/abstract/10.1103/PhysRevLett.72.1690), meaning that many problems map onto it, independently of their microscopic details.\n",
    "\n",
    "Here, we will consider a well-known example of a universality class describing a nonequilibrium phase transition: the directed percolation problem. This problem is usually attributed to [Broadbent & Hammersley in 1957](https://www.cambridge.org/core/journals/mathematical-proceedings-of-the-cambridge-philosophical-society/article/percolation-processes/C00CC4943F48228F8AC8031092FE84EC).\n",
    "\n",
    "The basic idea is deceptively simple: given a D-dimensional lattice (for our purposes, a 2D grid), we randomly mark sites as \"blocked\" with probability $p$. The remaining sites are \"open\" for water to flow. For a given value of $p$, what is the probability that water poured into the top of the lattice will percolate to the bottom row through a chain of connected open sites? This problem is *directed percolation* because it has a preferred direction (water flows from top to bottom). We will assume two open sites are connected if one is north, south, east, or west of the other---but *not* diagonal. This corresponds to [von Neumann neighborhood rules](https://en.wikipedia.org/wiki/Von_Neumann_neighborhood).\n",
    "\n",
    "A percolation simulation should take a binary array, and return True if it percolates, and False if it does not. There are many ways to implement a percolation algorithm, most of which involve simulating the addition of water to the grid. \n",
    "+ *Iterative Solution.* One option would be start with the top row, mark all open sites as \"filled,\" and then pass to the next row and search for open sites connected to filled sites. Some addtional care is required, however, because water can pass through channels within a row until it reaches sites that are not directly below filled sites. One workaround would be to perform multiple iterative passes until the filled lattice stops changing. Another edge case is the case where water needs to pass through an uphill channel in order to make it to the bottom---this can be solved by passing over the lattice first from top to bottom, and then vice versa.\n",
    "+ *Depth-first search (DFS).* Another simulation option would be a depth-first-search, where we start from each site on the top row and we search for any chain of North/Sout/East/West hops that leads to the other side of the lattice, marking all visited sites as filled with water. This last methods demonstrates the conceptual simularity between directed percolation and solving a maze puzzle; the only difference that the \"blocked\" sites in a maze are non-random. \n",
    "\n",
    "Here we are going to implemented a directed percolation model, and then perform experiments with it in order to determine how the percolation probability depends on the fraction of blocked sites $p$.\n",
    "\n",
    "## To Do\n",
    "\n",
    "\n",
    "\n",
    "\n",
    "\n"
   ]
  },
  {
   "cell_type": "markdown",
   "id": "1cb0e0ea",
   "metadata": {},
   "source": [
    "### To Do\n",
    "\n",
    "*Please complete the following tasks and answer the included questions. You can edit a Markdown cell in Jupyter by double-clicking on it. To return the cell to its formatted form, press `[Shift]+[Enter]`.*"
   ]
  },
  {
   "cell_type": "markdown",
   "id": "626030bd",
   "metadata": {},
   "source": [
    "1. Implement a two dimensional directed percolation model in Python. Below, there is a code outline for the iterative solution. There are at least two ways to solve this problem.\n",
    "    + The iterative solution simulates water pouring into the top row, and then iterate over rows and sites. With this solution, there is some difficulty regarding how to handle the case where water can flow through a channel from right to left, even though we normally iterate from left to right. This can be solved by passing over each row twice. However, there is also a the case where water needs to pass uphill through a channel before it can proceed downhill. This can be solved by passing over the lattice from top to bottom, and then vice versa.\n",
    "    + The recursive solution traces all possible paths from the top row to the bottom row, similar to solving a labyrinth. To use this solution, you will need to add an additional private method `_flow_recursive(i, j)` that contains the recursive logic."
   ]
  },
  {
   "cell_type": "markdown",
   "id": "f9f55e4b",
   "metadata": {},
   "source": [
    "```\n",
    "    For my implementation, I used the following fact: there is no percolation IFF there exists some wall of blocked sites connecting the left and right sides of the grid where the connection is allowed to include diagonal neighbors.  Thus, I implemented the percolation by finding the blocked sites in the first column of the grid, then tracing that along to the right to see if there will be a connection of blocked sites (including diagonals) to the last column of the grid.\n",
    "\n",
    "    This doesn't feel very clean, but it is almost exactly equivalent to the \"labyrinth\" method, as you call it.  It is interesting that the only difference is whether or not to include diagonal connections.  I wonder if this makes the algorithm any quicker than the von Neumann neighbor labyrinth search.  I don't think I will test it this time around, but I hypothesize that it will be slightly slower, since I am running all searches at once from left to right; this will take more memory than the von Neumann neighbors labyrinth method purely because an object has more neighbors if we include diagonals.\n",
    "\n",
    "    Now I wonder whether this problem can be solved using graph theory.  Say we are given a graph which is made up nodes representing blocked sites and connections representing a connection between two blocked sites, then we simply check if the graph has any disjoint components, i.e. it is not completely connected.  This is likely equivalent to checking some simple condition of a matrix which represents the graph.  The only problem is that for larger grids, the algorithm will probably get very slow, as algorithm complexity will likely scale as the number of total elements of the matrix.  But maybe graph theory wizards know of some kind of shortcuts to computing this condition.  I decided not to try this method.\n",
    "```"
   ]
  },
  {
   "cell_type": "markdown",
   "id": "48dce4ee",
   "metadata": {},
   "source": [
    "2. Perform replicate simulations using the code provided below, and create a plot showing how the probability of percolation changes as a function of $p$ (the blockage probability). Beyond seeing the percolation to clogging transition, you'll notice that the variance in the outcome of your simulations behaves unexpectedly. What is going on here? (Hint: If you've studied the Ising model, you've seen something like this before)"
   ]
  },
  {
   "cell_type": "markdown",
   "id": "139ffe4f",
   "metadata": {},
   "source": [
    "```\n",
    "    I put my plots below my implementation.\n",
    "\n",
    "    The transition from percolation to clogging is interesting, but for the standard deviation results, I do not think it is THAT shocking.  However, it is strange that the peak is located at an average site blocking probability of roughly 40% rather than 50%, but this is probably because of the neighbor conditions for percolation.  The open sites need a connected path of von Neumann neighbors to percolate, but the blocked sites need a connected path which includes diagonal neighbors.  This might give clogging a slight probabilistic advantage.\n",
    "\n",
    "    As for the variance itself peaking at the transition point, this does not shock me.  In general, the smaller the probability of site blocking, the more we expect percolation, but as we increase to a coin flip for site blocking, then percolation probability will also begin to resemble a coin flip; it will not be as easy to guess whether a random grid will be able to percolate, thus the standard deviation should be higher.  My intuition telling me this, it would not seem so crazy that we get the results that we have.\n",
    "```"
   ]
  },
  {
   "cell_type": "markdown",
   "id": "d2477ce9",
   "metadata": {},
   "source": [
    "3. Theoretically, does the transition point seen in our empirical results align with your intuition? Why does its value differ from $p=0.5$? *(Hint: think about sites versus connections between sites).*"
   ]
  },
  {
   "cell_type": "markdown",
   "id": "208d17fd",
   "metadata": {},
   "source": [
    "```\n",
    "    I described my answer to this above ^\n",
    "```"
   ]
  },
  {
   "cell_type": "markdown",
   "id": "496314c4",
   "metadata": {},
   "source": [
    "4. How does the memory usage and runtime of your percolation model implement scale with the lattice size? You can answer this empirically or theoretically."
   ]
  },
  {
   "cell_type": "markdown",
   "id": "08de5583",
   "metadata": {},
   "source": [
    "```\n",
    "    For my implementation, it would probably get worse with size.... much worse.  This is because my algorithm runs each snake at once.  For a bigger grid, there is more to run.\n",
    "\n",
    "    If p is the given probability, then for a given size n^2, I will search slightly less than p*n^2 sites.  So my algorithm's memory scaling is ~n^2 for n being the number of rows or columns of my grid.\n",
    "```"
   ]
  },
  {
   "cell_type": "markdown",
   "id": "8e259803",
   "metadata": {},
   "source": [
    "5. One way to sweep the control parameter $p$ would be to start in a limit where most of the sites are blocked, and then gradually open up individual sites one at a time until the lattice percolates. A video of a simulation where the lattice is gradually opened can be seen [here](https://vimeo.com/747772333). How do the different events in this gradually unblocked percolation simulation relate to the two timescales we saw in the sandpile problem?"
   ]
  },
  {
   "cell_type": "markdown",
   "id": "7900cce7",
   "metadata": {},
   "source": [
    "```\n",
    "    I am not exactly sure what this question means, but I will give my best attempt at an answer.\n",
    "\n",
    "    For large values of p, the lattice will be mostly filled and an open site is unlikely to have many neighbors, and the connections will be short.  This will make the algorithm quick to run at start.  However, as the site gradually opens up, the few open sites are now more likely to connect with one another.  This is like how adding grains of sand gradually makes for more connected critical sites.  Then, a linking between two large sectors of open sites is like the endgame type avalanches we saw in the Abelian sandpile problem.  Large sectors of open sites will appear more frequently as we open up the lattice to the point where it is possible to connect large chunks of the board with opening.\n",
    "```"
   ]
  },
  {
   "cell_type": "code",
   "execution_count": 13,
   "id": "faf21235",
   "metadata": {},
   "outputs": [],
   "source": [
    "class PercolationSimulation:\n",
    "\n",
    "    def __init__(self, size=100, p=.5, random_seed=None, initial_condition=None):\n",
    "        # i have an initial condition argument in case I wanted to specify that\n",
    "\n",
    "        np.random.seed(random_seed)\n",
    "\n",
    "        if initial_condition is not None:\n",
    "            self.grid = initial_condition\n",
    "            self.size = len(initial_condition)\n",
    "            self.p = p # this doesn't actually matter if we specify an initial condition\n",
    "        else:\n",
    "            self.size = size\n",
    "            self.p = p\n",
    "            # ``random.binomial`` is a coin flipper with probability ``p`` of landing 1\n",
    "            self.grid = np.random.binomial(1,self.p,(size,size))\n",
    "\n",
    "    def percolate(self):\n",
    "        # my percolation algorithm looks at connected BLOCKED sites\n",
    "        # from the left side of the grid to the right\n",
    "\n",
    "        # look at the left-most blocked sites first\n",
    "        # ``points_of_interest`` will be a twople `` ( row array ,  column array )\n",
    "        points_of_interest=(\n",
    "            np.nonzero(self.grid[:,0])[0],\n",
    "            np.zeros(len(self.grid[:,0][self.grid[:,0]>0]),dtype=int)\n",
    "        )\n",
    "        \n",
    "        # store an array of points looked at\n",
    "        # (will come in handy later)\n",
    "        prev_PoI = np.array(points_of_interest).T\n",
    "\n",
    "        # ^ all of this weird formatting will be useful\n",
    "\n",
    "        while True: # run a loop which searches through connected blocked sites\n",
    "\n",
    "            # if our snake has reached the end or if we have nowhere else to go, then break\n",
    "            if np.any(points_of_interest[1]==self.size-1) or points_of_interest[1].size==0: break\n",
    "\n",
    "            # search the neigbors of our points of interest\n",
    "            # for blocked sites, then compare those points\n",
    "            # to ones we've already catalogued\n",
    "            next_PoI = self._compare(\n",
    "                newpoints = self._search_for_blocks(\n",
    "                    self._neighbors(points_of_interest)\n",
    "                ),\n",
    "                oldpoints = prev_PoI\n",
    "            )\n",
    "\n",
    "            # update our points\n",
    "            prev_PoI = np.r_[prev_PoI,next_PoI] # we have found ones here\n",
    "            points_of_interest = (next_PoI.T[0],next_PoI.T[1]) # next to snake around\n",
    "        \n",
    "        # finally, tell us if we found a connection to the other side\n",
    "        return not np.any(prev_PoI.T[1]==self.size-1)\n",
    "\n",
    "\n",
    "    def _search_for_blocks(self, points):\n",
    "        # ``points = ( row array , columns array )``\n",
    "        # return an array of which sites from ``points`` have 1\n",
    "        return np.array(points).T[np.nonzero(self.grid[points])]\n",
    "        # output looks like [ [ site row , site column ] , [ etc ] , ... ]\n",
    "        # it's a one-line operation, but the code would\n",
    "        # get really clogged up if i didn't make this function\n",
    "\n",
    "    def _neighbors(self, points):\n",
    "        # points is a twople of arrays: ``points = ( row array , column array )``\n",
    "        # this returns the neighbors of the points, including diagonals\n",
    "        # behind, in front, row above from left to right, row below from left to right\n",
    "\n",
    "        # and we make sure that our output has a unique set of points\n",
    "        # that are within the bounds of the grid\n",
    "\n",
    "        # i know it looks ugly, but i did it all in only a couple of steps\n",
    "\n",
    "        # all neighbors, not a unique set\n",
    "        all_neighbors = np.array(\n",
    "            [\n",
    "                # rows\n",
    "                np.r_[np.r_[2*(points[0],)],\n",
    "                      np.r_[3*(points[0]-1,)],\n",
    "                      np.r_[3*(points[0]+1,)]]\n",
    "                ,\n",
    "                # columns\n",
    "                np.r_[points[1]-1,points[1]+1,\n",
    "                      np.r_[2*(points[1]-1,points[1],points[1]+1)]]\n",
    "            ]\n",
    "        ) # array([row array],[column array])\n",
    "          # the formatting is somewhat particular\n",
    "        \n",
    "        # delete spaces outside of boundary\n",
    "        all_neighbors = np.delete(all_neighbors,\n",
    "                                  np.nonzero(\n",
    "                                      np.logical_or(all_neighbors==-1,all_neighbors==self.size)\n",
    "                                      )[1],\n",
    "                                  axis=1\n",
    "                                 )\n",
    "        \n",
    "        # unique neighbors\n",
    "        rows,cols=np.unique(all_neighbors.T,axis=0).T\n",
    "\n",
    "        return (rows,cols)\n",
    "    \n",
    "    def _compare(self, newpoints, oldpoints):\n",
    "        # newpoints and oldpoints are arrays of coordinates\n",
    "        # [ [ row , column ] , [ etc ] , ... ]\n",
    "\n",
    "        comparisons = np.unique(\n",
    "            np.r_[newpoints,np.r_[(oldpoints,)*2]],\n",
    "            axis=0,\n",
    "            return_counts=True\n",
    "            )\n",
    "\n",
    "        return np.delete(comparisons[0],np.nonzero(comparisons[1]-1)[0],axis=0)\n"
   ]
  },
  {
   "cell_type": "code",
   "execution_count": null,
   "id": "ec4ba2e7",
   "metadata": {},
   "outputs": [],
   "source": [
    "# class PercolationSimulation:\n",
    "#     \"\"\"\n",
    "#     A simulation of a 2D directed percolation problem. Given a 2D lattice, blocked sites\n",
    "#     are denoted by 0s, and open sites are denoted by 1s. During a simulation, water is\n",
    "#     poured into the top of the grid, and allowed to percolate to the bottom. If water\n",
    "#     fills a lattice site, it is marked with a 2 in the grid. Water only reaches a site\n",
    "#     if it reaches an open site directly above, or to the immediate left or right \n",
    "#     of an open site.\n",
    "\n",
    "#     I've included the API for my solution below. You can use this as a starting point, \n",
    "#     or you can re-factor the code to your own style. Your final solution must have a \n",
    "#     method called percolate that creates a random lattice and runs a percolation \n",
    "#     simulation and\n",
    "#     1. returns True if the system percolates\n",
    "#     2. stores the original lattice in self.grid\n",
    "#     3. stores the water filled lattice in self.grid_filled\n",
    "\n",
    "#     + For simplicity, use the first dimension of the array as the percolation direction\n",
    "#     + For boundary conditions, assume that any site out of bounds is a 0 (blocked)\n",
    "#     + You should use numpy for this problem, although it is possible to use lists \n",
    "\n",
    "\n",
    "\n",
    "#     Attributes:\n",
    "#         grid (np.array): the original lattice of blocked (0) and open (1) sites\n",
    "#         grid_filled (np.array): the lattice after water has been poured in\n",
    "#         n (int): number of rows and columns in the lattice\n",
    "#         p (float): probability of a site being blocked in the randomly-sampled lattice\n",
    "#             random_state (int): random seed for the random number generator\n",
    "#         random_state (int): random seed for numpy's random number generator. Used to \n",
    "#             ensure reproducibility across random simulations. The default value of None\n",
    "#             will use the current state of the random number generator without resetting\n",
    "#             it.\n",
    "#     \"\"\"\n",
    "\n",
    "#     def __init__(self, n=100, p=0.5, grid=None, random_state=None):\n",
    "#         \"\"\"\n",
    "#         Initialize a PercolationSimulation object.\n",
    "\n",
    "#         Args:\n",
    "#             n (int): number of rows and columns in the lattice\n",
    "#             p (float): probability of a site being blocked in the randomly-sampled lattice\n",
    "#             random_state (int): random seed for numpy's random number generator. Used to\n",
    "#                 ensure reproducibility across random simulations. The default value of None\n",
    "#                 will use the current state of the random number generator without resetting\n",
    "#                 it.\n",
    "#         \"\"\"\n",
    "\n",
    "#         self.random_state = random_state # the random seed\n",
    "\n",
    "#         # Initialize a random grid if one is not provided. Otherwise, use the provided\n",
    "#         # grid.\n",
    "#         if grid is None:\n",
    "#             self.n = n\n",
    "#             self.p = p\n",
    "#             self.grid = np.zeros((n, n))\n",
    "#             self._initialize_grid()\n",
    "#         else:\n",
    "#             assert len(np.unique(np.ravel(grid))) <= 2, \"Grid must only contain 0s and 1s\"\n",
    "#             self.grid = grid.astype(int)\n",
    "#             # override numbers if grid is provided\n",
    "#             self.n = grid.shape[0]\n",
    "#             self.p = 1 - np.mean(grid)\n",
    "\n",
    "#         # The filled grid used in the percolation calculation. Initialize to the original\n",
    "#         # grid. We technically don't need to copy the original grid if we want to save\n",
    "#         # memory, but it makes the code easier to debug if this is a separate variable \n",
    "#         # from self.grid.\n",
    "#         self.grid_filled = np.copy(self.grid)\n",
    "\n",
    "#     def _initialize_grid(self):\n",
    "#         \"\"\"\n",
    "#         Sample a random lattice for the percolation simulation. This method should\n",
    "#         write new values to the self.grid and self.grid_filled attributes. Make sure\n",
    "#         to set the random seed inside this method.\n",
    "\n",
    "#         This is a helper function for the percolation algorithm, and so we denote it \n",
    "#         with an underscore in order to indicate that it is not a public method (it is \n",
    "#         used internally by the class, but end users should not call it). In other \n",
    "#         languages like Java, private methods are not accessible outside the class, but\n",
    "#         in Python, they are accessible but external usage is discouraged by convention.\n",
    "\n",
    "#         Private methods are useful for functions that are necessary to support the \n",
    "#         public methods (here, our percolate() method), but which we expect we might need\n",
    "#         to alter in the future. If we released our code as a library, others might \n",
    "#         build software that accesses percolate(), and so we should not alter the \n",
    "#         input/outputs because it's a public method\n",
    "#         \"\"\"\n",
    "#         ###############################################################################\n",
    "#         #\n",
    "#         #\n",
    "#         ####### YOUR CODE HERE  ####### \n",
    "#         raise NotImplementedError(\"Implement this method\")\n",
    "#         # Hint: my solution is 3 lines of code in numpy\n",
    "#         #\n",
    "#         #\n",
    "#         ###############################################################################\n",
    "        \n",
    "\n",
    "#     def _flow_recursive(self, i, j):\n",
    "#         \"\"\"\n",
    "#         Only used if we opt for a recursive solution.\n",
    "\n",
    "#         The recursive portion of the flow simulation. Notice how grid and grid_filled\n",
    "#         are used to keep track of the global state, even as our recursive calls nest\n",
    "#         deeper and deeper\n",
    "#         \"\"\"\n",
    "        \n",
    "#         ####### YOUR CODE HERE  #######################################################\n",
    "#         raise NotImplementedError(\"Implement this method\")\n",
    "#         #\n",
    "#         #\n",
    "#         # Remember to check the von Neumann neighborhood of the current site. There should\n",
    "#         # be 4 recursive calls in total, and 4 base cases\n",
    "#         #\n",
    "#         #\n",
    "#         ###############################################################################s\n",
    "\n",
    "\n",
    "#     def _poll_neighbors(self, i, j):\n",
    "#         \"\"\"\n",
    "#         Check whether there is a filled site adjacent to a site at coordinates i, j in \n",
    "#         self.grid_filled. Respects boundary conditions.\n",
    "#         \"\"\"\n",
    "\n",
    "#         ####### YOUR CODE HERE  #######################################################\n",
    "#         raise NotImplementedError(\"Implement this method\")\n",
    "#         #\n",
    "#         #\n",
    "#         # Hint: my solution is 4 lines of code in numpy, but you may get different \n",
    "#         # results depending on how you enforce the boundary conditions in your solution.\n",
    "#         # Not needed for the recursive solution\n",
    "#         #\n",
    "#         #\n",
    "#         ###############################################################################\n",
    "\n",
    "\n",
    "\n",
    "#     def _flow(self):\n",
    "#         \"\"\"\n",
    "#         Run a percolation simulation using recursion\n",
    "\n",
    "#         This method writes to the grid and grid_filled attributes, but it does not\n",
    "#         return anything. In other languages like Java or C, this method would return\n",
    "#         void\n",
    "#         \"\"\"\n",
    "#         ###############################################################################\n",
    "#         raise NotImplementedError(\"Implement this method\")\n",
    "#         ####### YOUR CODE HERE  ####### \n",
    "#         # Hintsmy non-recursive solution contains one row-wise for loop, which contains \n",
    "#         # several loops over individual lattice sites. You might need to visit each lattice \n",
    "#         # site more than once per row. In my implementation, split the logic of checking\n",
    "#         # the von neumann neighborhood into a separate method _poll_neighbors, which\n",
    "#         # returns a boolean indicating whether a neighbor is filled\n",
    "#         #\n",
    "#         # My recursive solution calls a second function, _flow_recursive, which takes \n",
    "#         # two lattice indices as arguments\n",
    "\n",
    "#         ###############################################################################\n",
    "\n",
    "\n",
    "\n",
    "#     def percolate(self):\n",
    "#         \"\"\"\n",
    "#         Initialize a random lattice and then run a percolation simulation. Report results\n",
    "#         \"\"\"\n",
    "#         ###############################################################################\n",
    "\n",
    "#         ####### YOUR CODE HERE  ####### \n",
    "#         raise NotImplementedError(\"You must implement this method\")\n",
    "#         # Hint: my solution is 3 lines of code, and it just calls other methods in the\n",
    "#         # class, which do the heavy lifting\n",
    "\n",
    "#         ###############################################################################\n",
    "\n",
    "\n"
   ]
  },
  {
   "cell_type": "markdown",
   "id": "3c115456",
   "metadata": {},
   "source": [
    "### Test and use your code\n",
    "\n",
    "+ You don't need to write any new code below, these cells are just to confirm that everything is working and to play with the your percolation implementation\n",
    "+ If you are working from a local fork of the entire course, then you already have access to the solutions. In this case, make sure to `git pull` to make sure that you are up-to-date (save your work first).\n",
    "+ If you are working from a single downloaded notebook, or are working in Google Colab, then you will need to manually download the solutions file from the course repository. The lines below will do this for you."
   ]
  },
  {
   "cell_type": "code",
   "execution_count": 17,
   "id": "5adc9995",
   "metadata": {},
   "outputs": [],
   "source": [
    "# import os\n",
    "# import requests\n",
    "# # Check if the \"solutions\" directory exists. If not, create it and download the solution file\n",
    "# if not os.path.exists('solutions'):\n",
    "#     os.makedirs('solutions')\n",
    "# else:\n",
    "#     print('Directory \"solutions\" already exists. Skipping creation.')\n",
    "\n",
    "# # Now download the solution file into the directory we just created\n",
    "# url = 'https://raw.githubusercontent.com/williamgilpin/cphy/main/hw/solutions/percolation.py'\n",
    "# response = requests.get(url)\n",
    "# file_path = os.path.join('solutions', 'percolation.py')\n",
    "# if not os.path.exists(file_path):\n",
    "#     with open(file_path, 'wb') as file:\n",
    "#         file.write(response.content)\n",
    "#     print(f'File saved to {file_path}')\n",
    "# else:\n",
    "#     print(f'File already exists at {file_path}, not overwritten.')\n",
    "\n",
    "# # Import Instructor's solution\n",
    "# # from solutions.percolation import PercolationSimulation\n",
    "# # from solutions.percolation_iterative import PercolationSimulation"
   ]
  },
  {
   "cell_type": "code",
   "execution_count": 18,
   "id": "53214e01",
   "metadata": {},
   "outputs": [],
   "source": [
    "# from matplotlib.colors import LinearSegmentedColormap\n",
    "# def plot_percolation(mat):\n",
    "#     \"\"\"\n",
    "#     Plots a percolation matrix, where 0 indicates a blocked site, 1 indicates an empty \n",
    "#     site, and 2 indicates a filled site\n",
    "#     \"\"\"\n",
    "#     cvals  = [0, 1, 2]\n",
    "#     colors = [(0, 0, 0), (0.4, 0.4, 0.4), (0.372549, 0.596078, 1)]\n",
    "\n",
    "#     norm = plt.Normalize(min(cvals), max(cvals))\n",
    "#     tuples = list(zip(map(norm,cvals), colors))\n",
    "#     cmap = LinearSegmentedColormap.from_list(\"\", tuples)\n",
    "#     plt.imshow(mat, cmap=cmap, vmin=0, vmax=2)\n",
    "\n",
    "\n",
    "# model = PercolationSimulation(n=20, random_state=0, p=0.1)\n",
    "# print(model.percolate())\n",
    "# plt.figure()\n",
    "# plot_percolation(model.grid_filled)\n",
    "\n",
    "# model = PercolationSimulation(n=20, random_state=0, p=0.4)\n",
    "# print(model.percolate())\n",
    "# plt.figure()\n",
    "# plot_percolation(model.grid_filled)\n",
    "\n",
    "\n",
    "# model = PercolationSimulation(n=20, random_state=0, p=0.9)\n",
    "# print(model.percolate())\n",
    "# plt.figure()\n",
    "# plot_percolation(model.grid_filled)"
   ]
  },
  {
   "cell_type": "markdown",
   "id": "2dec1a17",
   "metadata": {},
   "source": [
    "Run replicate simulations across replicates with different bond occupation probabilities\n",
    "\n",
    "The percolation probability represents an effective order parameter for this system, and\n",
    "so we will attempt to calculate the percolation probability by performing many replicate\n",
    "simulations at different values of the control parameter $p$."
   ]
  },
  {
   "cell_type": "code",
   "execution_count": null,
   "id": "0d356e3b",
   "metadata": {},
   "outputs": [
    {
     "name": "stdout",
     "output_type": "stream",
     "text": [
      "Running replicate simulations for p = 0.0\n",
      "Running replicate simulations for p = 0.041666666666666664\n",
      "Running replicate simulations for p = 0.08333333333333333\n",
      "Running replicate simulations for p = 0.125\n",
      "Running replicate simulations for p = 0.16666666666666666\n",
      "Running replicate simulations for p = 0.20833333333333331\n",
      "Running replicate simulations for p = 0.25\n",
      "Running replicate simulations for p = 0.29166666666666663\n",
      "Running replicate simulations for p = 0.3333333333333333\n",
      "Running replicate simulations for p = 0.375\n",
      "Running replicate simulations for p = 0.41666666666666663\n",
      "Running replicate simulations for p = 0.4583333333333333\n",
      "Running replicate simulations for p = 0.5\n",
      "Running replicate simulations for p = 0.5416666666666666\n",
      "Running replicate simulations for p = 0.5833333333333333\n",
      "Running replicate simulations for p = 0.625\n",
      "Running replicate simulations for p = 0.6666666666666666\n",
      "Running replicate simulations for p = 0.7083333333333333\n",
      "Running replicate simulations for p = 0.75\n",
      "Running replicate simulations for p = 0.7916666666666666\n",
      "Running replicate simulations for p = 0.8333333333333333\n",
      "Running replicate simulations for p = 0.875\n",
      "Running replicate simulations for p = 0.9166666666666666\n",
      "Running replicate simulations for p = 0.9583333333333333\n",
      "Running replicate simulations for p = 1.0\n"
     ]
    },
    {
     "data": {
      "image/png": "[encoded data removed]",
      "text/plain": [
       "<Figure size 640x480 with 1 Axes>"
      ]
     },
     "metadata": {},
     "output_type": "display_data"
    },
    {
     "data": {
      "image/png": "[encoded data removed]",
      "text/plain": [
       "<Figure size 640x480 with 1 Axes>"
      ]
     },
     "metadata": {},
     "output_type": "display_data"
    }
   ],
   "source": [
    "pvals = np.linspace(0, 1, 25) # control parameter for percolation phase transition\n",
    "n_reps = 200 # number of times to repeat the simulation for each p value\n",
    "\n",
    "all_percolations = list()\n",
    "for p in pvals:\n",
    "    print(\"Running replicate simulations for p = {}\".format(p), flush=True)\n",
    "    all_replicates = list()\n",
    "    for i in range(n_reps):\n",
    "        # Initialize the model\n",
    "        model = PercolationSimulation(size=30, p=p)\n",
    "        all_replicates.append(model.percolate())\n",
    "    all_percolations.append(all_replicates)\n",
    "\n",
    "plt.figure()\n",
    "plt.plot(pvals, np.mean(np.array(all_percolations), axis=1))\n",
    "plt.xlabel('Average site occupation probability')\n",
    "plt.ylabel('Percolation probability')\n",
    "\n",
    "plt.figure()\n",
    "plt.plot(pvals, np.std(np.array(all_percolations), axis=1))\n",
    "plt.xlabel('Average site occupation probability')\n",
    "plt.ylabel('standard deviation of Percolation probability')\n",
    "\n",
    "plt.show()\n"
   ]
  },
  {
   "cell_type": "code",
   "execution_count": 20,
   "id": "afea21c1",
   "metadata": {},
   "outputs": [
    {
     "name": "stdout",
     "output_type": "stream",
     "text": [
      "Finished simulation 0\n",
      "Finished simulation 500\n",
      "Finished simulation 1000\n",
      "Finished simulation 1500\n",
      "Finished simulation 2000\n",
      "Finished simulation 2500\n",
      "Finished simulation 3000\n",
      "Finished simulation 3500\n",
      "Finished simulation 4000\n",
      "Finished simulation 4500\n"
     ]
    },
    {
     "data": {
      "text/plain": [
       "(array([  1.,   0.,   0.,   0.,   3.,   2.,  11.,  10.,  21.,  23.,  40.,\n",
       "         42.,  64.,  90.,  99., 130., 170., 154., 202., 247., 290., 260.,\n",
       "        319., 323., 281., 299., 295., 290., 210., 227., 192., 174., 125.,\n",
       "        117.,  84.,  52.,  57.,  26.,  27.,  17.,   6.,   5.,   8.,   2.,\n",
       "          0.,   1.,   1.,   0.,   1.,   2.]),\n",
       " array([5741.  , 5748.72, 5756.44, 5764.16, 5771.88, 5779.6 , 5787.32,\n",
       "        5795.04, 5802.76, 5810.48, 5818.2 , 5825.92, 5833.64, 5841.36,\n",
       "        5849.08, 5856.8 , 5864.52, 5872.24, 5879.96, 5887.68, 5895.4 ,\n",
       "        5903.12, 5910.84, 5918.56, 5926.28, 5934.  , 5941.72, 5949.44,\n",
       "        5957.16, 5964.88, 5972.6 , 5980.32, 5988.04, 5995.76, 6003.48,\n",
       "        6011.2 , 6018.92, 6026.64, 6034.36, 6042.08, 6049.8 , 6057.52,\n",
       "        6065.24, 6072.96, 6080.68, 6088.4 , 6096.12, 6103.84, 6111.56,\n",
       "        6119.28, 6127.  ]),\n",
       " <BarContainer object of 50 artists>)"
      ]
     },
     "execution_count": 20,
     "metadata": {},
     "output_type": "execute_result"
    },
    {
     "data": {
      "image/png": "[encoded data removed]",
      "text/plain": [
       "<Figure size 640x480 with 1 Axes>"
      ]
     },
     "metadata": {},
     "output_type": "display_data"
    }
   ],
   "source": [
    "## Just from curiousity, plot the distribution of cluster sizes at the percolation threshold\n",
    "## why does it appear to be bimodal?\n",
    "all_cluster_sizes = list()\n",
    "p_c = 0.407259\n",
    "n_reps = 5000\n",
    "for i in range(n_reps):\n",
    "    model = PercolationSimulation(size=100, p=p_c)\n",
    "    model.percolate()\n",
    "    cluster_size = np.sum(model.grid == 0)\n",
    "    all_cluster_sizes.append(cluster_size)\n",
    "\n",
    "    if i % 500 == 0:\n",
    "        print(\"Finished simulation {}\".format(i), flush=True)\n",
    "\n",
    "all_cluster_sizes = np.array(all_cluster_sizes)\n",
    "\n",
    "plt.figure()\n",
    "plt.hist(all_cluster_sizes, 50)"
   ]
  },
  {
   "cell_type": "markdown",
   "id": "3f0c0c1a",
   "metadata": {},
   "source": [
    "# Additional information\n",
    "\n",
    "Directed percolation maps onto all sorts of interesting problems in physics and graph theory. There are very direct applications of percolation to [flow in porous media](https://iopscience.iop.org/article/10.1088/0305-4470/14/5/012/meta), as well as [electrical conductance](https://journals.aps.org/prb/abstract/10.1103/PhysRevB.26.5293) and [light propagation in disordered materials](https://journals.aps.org/prl/abstract/10.1103/PhysRevLett.99.234503). A great example of the broader relevance of the directed percolation universality class is [recent work](https://www.nature.com/articles/nphys3548) showing similar scaling exponents describing both ecological collapse and pipe turbulence, which arise due to both systems belonging to the Directed Percolation universality class. [Another recent paper](https://journals.plos.org/ploscompbiol/article?id=10.1371/journal.pcbi.1007508) uses percolation theory to understand electrical signalling between neighboring cells in a biofilm. \n",
    "\n",
    "For more information about the mathematical theory of percolation, [Kim Christensen's notes on the subject](https://web.mit.edu/ceder/publications/Percolation.pdf) provide a detailed introduction.\n"
   ]
  },
  {
   "cell_type": "markdown",
   "id": "b8f3cda3",
   "metadata": {
    "tags": [
     "no-pdf",
     "remove-cell"
    ]
   },
   "source": [
    "## Optional code and extras\n",
    "\n",
    "Create a simulation where we iteratively fill out one lattice, in order to make a video of our percolation simulation"
   ]
  },
  {
   "cell_type": "code",
   "execution_count": 21,
   "id": "4c249d38",
   "metadata": {
    "tags": [
     "no-pdf",
     "remove-cell"
    ]
   },
   "outputs": [],
   "source": [
    "# initial_lattice = np.zeros((50, 50))\n",
    "\n",
    "# # Decide the order in which sites become blocked\n",
    "# np.random.seed(0)\n",
    "# all_lattice_indices = np.array(\n",
    "#     [(i, j) for i in range(initial_lattice.shape[0]) for j in range(initial_lattice.shape[1])]\n",
    "# )\n",
    "# np.random.shuffle(all_lattice_indices)\n",
    "\n",
    "# # does percolate \n",
    "# all_grids = list()\n",
    "# for inds in all_lattice_indices:\n",
    "    \n",
    "#     initial_lattice[inds[0], inds[1]] = 1\n",
    "#     model = PercolationSimulation(grid=initial_lattice)\n",
    "#     model.percolate()\n",
    "\n",
    "#     if (model.p > 0.3) and (model.p < 0.7):\n",
    "#         all_grids.append(np.copy(model.grid_filled))\n",
    "\n",
    "    "
   ]
  },
  {
   "cell_type": "code",
   "execution_count": 22,
   "id": "5be99bc0",
   "metadata": {
    "tags": [
     "no-pdf",
     "remove-cell"
    ]
   },
   "outputs": [],
   "source": [
    "# ## Make an interactive video\n",
    "# from ipywidgets import interact, interactive, fixed, interact_manual, Layout\n",
    "# import ipywidgets as widgets\n",
    "\n",
    "# def plotter(i):\n",
    "#     fig = plt.figure(figsize=(10, 10))\n",
    "#     plot_percolation(all_grids[i])\n",
    "#     plt.show()\n",
    "\n",
    "\n",
    "\n",
    "# interact(\n",
    "#     plotter, \n",
    "#     i=widgets.IntSlider(0, 0, len(all_grids) - 1, layout=Layout(width='500px'))\n",
    "# )"
   ]
  },
  {
   "cell_type": "markdown",
   "id": "876c8d01",
   "metadata": {
    "tags": [
     "no-pdf",
     "remove-cell"
    ]
   },
   "source": [
    "# Appendix and Extras\n",
    "\n",
    "This is William's leftover code for making videos and figures; no need to run this"
   ]
  },
  {
   "cell_type": "code",
   "execution_count": 23,
   "id": "5db79a01",
   "metadata": {
    "tags": [
     "no-pdf",
     "remove-cell"
    ]
   },
   "outputs": [],
   "source": [
    "# from matplotlib.animation import FuncAnimation\n",
    "# from IPython.display import HTML\n",
    "\n",
    "# activity_sliding2 = activity_sliding[-500:]\n",
    "# vmin = np.percentile(activity_sliding2, 1)\n",
    "# # vmin = 0\n",
    "# vmax = np.percentile(activity_sliding2, 99.8)\n",
    "\n",
    "# # Assuming frames is a numpy array with shape (num_frames, height, width)\n",
    "# frames = np.array(activity_sliding2).copy() \n",
    "\n",
    "# fig = plt.figure(figsize=(6, 6))\n",
    "# # img = plt.imshow(frames[0], vmin=vmin, vmax=vmax);\n",
    "# plt.xticks([]); plt.yticks([])\n",
    "# # tight margins\n",
    "# plt.margins(0,0)\n",
    "# plt.gca().xaxis.set_major_locator(plt.NullLocator())\n",
    "\n",
    "# def update(frame):\n",
    "#     plot_percolation(all_grids[::2])\n",
    "\n",
    "# ani = FuncAnimation(fig, update, frames=all_grids[::2], interval=50)\n",
    "# HTML(ani.to_jshtml())"
   ]
  },
  {
   "cell_type": "code",
   "execution_count": 24,
   "id": "a2dca61f",
   "metadata": {
    "tags": [
     "no-pdf",
     "remove-cell"
    ]
   },
   "outputs": [],
   "source": [
    "# # (Optional) I used this code to export still images, and then make a video from them using\n",
    "# # the command-line tool ffmpeg\n",
    "\n",
    "\n",
    "# for i in range(len(all_grids[::2]) - 1):\n",
    "    \n",
    "    \n",
    "#     out_path = \"private_dump/percolation/frame\" + str(i).zfill(4) + \".png\"\n",
    "\n",
    "#     plt.figure()\n",
    "#     plot_percolation(all_grids[::2][i])\n",
    "\n",
    "#     ax = plt.gca()\n",
    "#     ax.set_axis_off()\n",
    "#     ax.xaxis.set_major_locator(plt.NullLocator())\n",
    "#     ax.yaxis.set_major_locator(plt.NullLocator())\n",
    "#     ax.set_aspect(1, adjustable='box')\n",
    "\n",
    "#     plt.savefig(out_path, bbox_inches='tight', pad_inches=0.0, dpi=160)\n",
    "#     plt.close()\n",
    "\n"
   ]
  },
  {
   "cell_type": "code",
   "execution_count": 25,
   "id": "53557b8e",
   "metadata": {
    "tags": [
     "no-pdf",
     "remove-cell"
    ]
   },
   "outputs": [],
   "source": [
    "# # (Optional) I used this code to stitch the images together into a video. The %%bash magic tells\n",
    "# # iPython to treat these lines as bash commands, rather than Python. I then use the \n",
    "# # command-line tool `ffmpeg` to stitch the images together into a video.\n",
    "\n",
    "# %%bash\n",
    "# ffmpeg -r 60 -i private_dump/percolation/frame%04d.png -vf \"scale=trunc(iw/2)*2:trunc(ih/2)*2\" -vcodec libx264 -pix_fmt yuv420p private_dump/percolation/vid2.mov\n"
   ]
  },
  {
   "cell_type": "code",
   "execution_count": null,
   "id": "21c01f90",
   "metadata": {},
   "outputs": [],
   "source": []
  }
 ],
 "metadata": {
  "kernelspec": {
   "display_name": "compphysenv",
   "language": "python",
   "name": "python3"
  },
  "language_info": {
   "codemirror_mode": {
    "name": "ipython",
    "version": 3
   },
   "file_extension": ".py",
   "mimetype": "text/x-python",
   "name": "python",
   "nbconvert_exporter": "python",
   "pygments_lexer": "ipython3",
   "version": "3.13.7"
  }
 },
 "nbformat": 4,
 "nbformat_minor": 5
}
